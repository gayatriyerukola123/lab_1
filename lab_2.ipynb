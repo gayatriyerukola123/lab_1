{
 "cells": [
  {
   "cell_type": "code",
   "execution_count": null,
   "id": "cf2568d1",
   "metadata": {},
   "outputs": [],
   "source": []
  },
  {
   "cell_type": "code",
   "execution_count": 4,
   "id": "a9d66b22",
   "metadata": {},
   "outputs": [
    {
     "name": "stdout",
     "output_type": "stream",
     "text": [
      "  Customer  Candies (#)  Mangoes (Kg)  Milk Packets (#)  Payment (Rs)  \\\n",
      "0      C_1           20             6                 2           386   \n",
      "1      C_2           16             3                 6           289   \n",
      "2      C_3           27             6                 2           393   \n",
      "3      C_4           19             1                 2           110   \n",
      "4      C_5           24             4                 2           280   \n",
      "5      C_6           22             1                 5           167   \n",
      "6      C_7           15             4                 2           271   \n",
      "7      C_8           18             4                 2           274   \n",
      "8      C_9           21             1                 4           148   \n",
      "9     C_10           16             2                 4           198   \n",
      "\n",
      "   Unnamed: 5  Unnamed: 6  Unnamed: 7  Unnamed: 8  Unnamed: 9  ...  \\\n",
      "0         NaN         NaN         NaN         NaN         NaN  ...   \n",
      "1         NaN         NaN         NaN         NaN         NaN  ...   \n",
      "2         NaN         NaN         NaN         NaN         NaN  ...   \n",
      "3         NaN         NaN         NaN         NaN         NaN  ...   \n",
      "4         NaN         NaN         NaN         NaN         NaN  ...   \n",
      "5         NaN         NaN         NaN         NaN         NaN  ...   \n",
      "6         NaN         NaN         NaN         NaN         NaN  ...   \n",
      "7         NaN         NaN         NaN         NaN         NaN  ...   \n",
      "8         NaN         NaN         NaN         NaN         NaN  ...   \n",
      "9         NaN         NaN         NaN         NaN         NaN  ...   \n",
      "\n",
      "   Unnamed: 12  Unnamed: 13  Unnamed: 14  Unnamed: 15  Unnamed: 16  \\\n",
      "0          NaN          NaN          NaN          NaN          NaN   \n",
      "1          NaN          NaN          NaN          NaN          NaN   \n",
      "2          NaN          NaN          NaN          NaN          NaN   \n",
      "3          NaN          NaN          NaN          NaN          NaN   \n",
      "4          NaN          NaN          NaN          NaN          NaN   \n",
      "5          NaN          NaN          NaN          NaN          NaN   \n",
      "6          NaN          NaN          NaN          NaN          NaN   \n",
      "7          NaN          NaN          NaN          NaN          NaN   \n",
      "8          NaN          NaN          NaN          NaN          NaN   \n",
      "9          NaN          NaN          NaN          NaN          NaN   \n",
      "\n",
      "   Unnamed: 17  Unnamed: 18  Candy  Mango  Milk  \n",
      "0          NaN          NaN    1.0   55.0  18.0  \n",
      "1          NaN          NaN    NaN    NaN   NaN  \n",
      "2          NaN          NaN    NaN    NaN   NaN  \n",
      "3          NaN          NaN    NaN    NaN   NaN  \n",
      "4          NaN          NaN    NaN    NaN   NaN  \n",
      "5          NaN          NaN    NaN    NaN   NaN  \n",
      "6          NaN          NaN    NaN    NaN   NaN  \n",
      "7          NaN          NaN    NaN    NaN   NaN  \n",
      "8          NaN          NaN    NaN    NaN   NaN  \n",
      "9          NaN          NaN    NaN    NaN   NaN  \n",
      "\n",
      "[10 rows x 22 columns]\n"
     ]
    }
   ],
   "source": [
    "\n",
    "import pandas as pd \n",
    "  \n",
    "df = pd.read_excel(\"C:/Users/year3/Downloads/Lab Session Data.xlsx\") \n",
    "print(df)"
   ]
  },
  {
   "cell_type": "code",
   "execution_count": 7,
   "id": "b61fe878",
   "metadata": {},
   "outputs": [
    {
     "name": "stdout",
     "output_type": "stream",
     "text": [
      "  Customer  Candies (#)  Mangoes (Kg)  Milk Packets (#)  Payment (Rs)  \\\n",
      "0      C_1           20             6                 2           386   \n",
      "1      C_2           16             3                 6           289   \n",
      "2      C_3           27             6                 2           393   \n",
      "3      C_4           19             1                 2           110   \n",
      "4      C_5           24             4                 2           280   \n",
      "5      C_6           22             1                 5           167   \n",
      "6      C_7           15             4                 2           271   \n",
      "7      C_8           18             4                 2           274   \n",
      "8      C_9           21             1                 4           148   \n",
      "9     C_10           16             2                 4           198   \n",
      "\n",
      "   Unnamed: 5  Unnamed: 6  Unnamed: 7  Unnamed: 8  Unnamed: 9  ...  \\\n",
      "0         NaN         NaN         NaN         NaN         NaN  ...   \n",
      "1         NaN         NaN         NaN         NaN         NaN  ...   \n",
      "2         NaN         NaN         NaN         NaN         NaN  ...   \n",
      "3         NaN         NaN         NaN         NaN         NaN  ...   \n",
      "4         NaN         NaN         NaN         NaN         NaN  ...   \n",
      "5         NaN         NaN         NaN         NaN         NaN  ...   \n",
      "6         NaN         NaN         NaN         NaN         NaN  ...   \n",
      "7         NaN         NaN         NaN         NaN         NaN  ...   \n",
      "8         NaN         NaN         NaN         NaN         NaN  ...   \n",
      "9         NaN         NaN         NaN         NaN         NaN  ...   \n",
      "\n",
      "   Unnamed: 12  Unnamed: 13  Unnamed: 14  Unnamed: 15  Unnamed: 16  \\\n",
      "0          NaN          NaN          NaN          NaN          NaN   \n",
      "1          NaN          NaN          NaN          NaN          NaN   \n",
      "2          NaN          NaN          NaN          NaN          NaN   \n",
      "3          NaN          NaN          NaN          NaN          NaN   \n",
      "4          NaN          NaN          NaN          NaN          NaN   \n",
      "5          NaN          NaN          NaN          NaN          NaN   \n",
      "6          NaN          NaN          NaN          NaN          NaN   \n",
      "7          NaN          NaN          NaN          NaN          NaN   \n",
      "8          NaN          NaN          NaN          NaN          NaN   \n",
      "9          NaN          NaN          NaN          NaN          NaN   \n",
      "\n",
      "   Unnamed: 17  Unnamed: 18  Candy  Mango  Milk  \n",
      "0          NaN          NaN    1.0   55.0  18.0  \n",
      "1          NaN          NaN    NaN    NaN   NaN  \n",
      "2          NaN          NaN    NaN    NaN   NaN  \n",
      "3          NaN          NaN    NaN    NaN   NaN  \n",
      "4          NaN          NaN    NaN    NaN   NaN  \n",
      "5          NaN          NaN    NaN    NaN   NaN  \n",
      "6          NaN          NaN    NaN    NaN   NaN  \n",
      "7          NaN          NaN    NaN    NaN   NaN  \n",
      "8          NaN          NaN    NaN    NaN   NaN  \n",
      "9          NaN          NaN    NaN    NaN   NaN  \n",
      "\n",
      "[10 rows x 22 columns]\n",
      "   Candies (#)  Mangoes (Kg)  Milk Packets (#)\n",
      "0           20             6                 2\n",
      "1           16             3                 6\n",
      "2           27             6                 2\n",
      "3           19             1                 2\n",
      "4           24             4                 2\n",
      "5           22             1                 5\n",
      "6           15             4                 2\n",
      "7           18             4                 2\n",
      "8           21             1                 4\n",
      "9           16             2                 4\n",
      "0    386\n",
      "1    289\n",
      "2    393\n",
      "3    110\n",
      "4    280\n",
      "5    167\n",
      "6    271\n",
      "7    274\n",
      "8    148\n",
      "9    198\n",
      "Name: Payment (Rs), dtype: int64\n"
     ]
    }
   ],
   "source": [
    "df = pd.read_excel(\"C:/Users/year3/Downloads/Lab Session Data.xlsx\") \n",
    "print(df)\n",
    "\n",
    "matric_1=df.iloc[:,1:4]\n",
    "matric_2=df.iloc[:,4]\n",
    "\n",
    "print(matric_1)\n",
    "print(matric_2)"
   ]
  },
  {
   "cell_type": "code",
   "execution_count": 8,
   "id": "d93e909c",
   "metadata": {},
   "outputs": [
    {
     "name": "stdout",
     "output_type": "stream",
     "text": [
      "3\n"
     ]
    }
   ],
   "source": [
    "print(matric_1.shape[1])"
   ]
  },
  {
   "cell_type": "code",
   "execution_count": 11,
   "id": "26a9977e",
   "metadata": {},
   "outputs": [
    {
     "name": "stdout",
     "output_type": "stream",
     "text": [
      "10\n"
     ]
    }
   ],
   "source": [
    "print(matric_2.shape[0])"
   ]
  },
  {
   "cell_type": "code",
   "execution_count": 25,
   "id": "0519e501",
   "metadata": {},
   "outputs": [
    {
     "name": "stdout",
     "output_type": "stream",
     "text": [
      "3\n",
      "1\n"
     ]
    }
   ],
   "source": [
    "import numpy as np\n",
    "m1=pd.DataFrame(matric_1)\n",
    "m2=pd.DataFrame(matric_2)\n",
    "a=m1.values\n",
    "c=m2.values\n",
    "\n",
    "print(np.linalg.matrix_rank(t1))\n",
    "print(np.linalg.matrix_rank(t2))"
   ]
  },
  {
   "cell_type": "code",
   "execution_count": 24,
   "id": "edf9768b",
   "metadata": {
    "scrolled": true
   },
   "outputs": [
    {
     "name": "stdout",
     "output_type": "stream",
     "text": [
      "[[-0.01008596 -0.03124505  0.01013951  0.0290728   0.0182907   0.01161794\n",
      "  -0.00771348  0.00095458  0.01743623 -0.00542016]\n",
      " [ 0.09059668  0.07263726  0.03172933 -0.09071908 -0.01893196 -0.06926996\n",
      "   0.05675464  0.03152577 -0.07641966  0.00357352]\n",
      " [ 0.00299878  0.15874243 -0.05795468 -0.06609024 -0.06295043  0.03348017\n",
      "   0.01541831 -0.01070461  0.00029003  0.05938755]]\n"
     ]
    }
   ],
   "source": [
    "a_inverse=np.linalg.pinv(t1)\n",
    "print(a_inverse)"
   ]
  },
  {
   "cell_type": "code",
   "execution_count": 23,
   "id": "adc99b47",
   "metadata": {},
   "outputs": [
    {
     "name": "stdout",
     "output_type": "stream",
     "text": [
      "[[ 1.]\n",
      " [55.]\n",
      " [18.]]\n"
     ]
    }
   ],
   "source": [
    "x=m_1.dot(t2)\n",
    "print(x)"
   ]
  },
  {
   "cell_type": "code",
   "execution_count": 26,
   "id": "3c71962e",
   "metadata": {
    "scrolled": true
   },
   "outputs": [
    {
     "name": "stdout",
     "output_type": "stream",
     "text": [
      "[[20  6  2]\n",
      " [16  3  6]\n",
      " [27  6  2]\n",
      " [19  1  2]\n",
      " [24  4  2]\n",
      " [22  1  5]\n",
      " [15  4  2]\n",
      " [18  4  2]\n",
      " [21  1  4]\n",
      " [16  2  4]]\n"
     ]
    }
   ],
   "source": [
    "print(a)"
   ]
  },
  {
   "cell_type": "code",
   "execution_count": 31,
   "id": "f2446c41",
   "metadata": {},
   "outputs": [
    {
     "name": "stdout",
     "output_type": "stream",
     "text": [
      "  Customer  Candies (#)  Mangoes (Kg)  Milk Packets (#)  Payment (Rs)  \\\n",
      "0      C_1           20             6                 2           386   \n",
      "1      C_2           16             3                 6           289   \n",
      "2      C_3           27             6                 2           393   \n",
      "3      C_4           19             1                 2           110   \n",
      "4      C_5           24             4                 2           280   \n",
      "5      C_6           22             1                 5           167   \n",
      "6      C_7           15             4                 2           271   \n",
      "7      C_8           18             4                 2           274   \n",
      "8      C_9           21             1                 4           148   \n",
      "9     C_10           16             2                 4           198   \n",
      "\n",
      "   Unnamed: 5  Unnamed: 6  Unnamed: 7  Unnamed: 8  Unnamed: 9  ...  \\\n",
      "0         NaN         NaN         NaN         NaN         NaN  ...   \n",
      "1         NaN         NaN         NaN         NaN         NaN  ...   \n",
      "2         NaN         NaN         NaN         NaN         NaN  ...   \n",
      "3         NaN         NaN         NaN         NaN         NaN  ...   \n",
      "4         NaN         NaN         NaN         NaN         NaN  ...   \n",
      "5         NaN         NaN         NaN         NaN         NaN  ...   \n",
      "6         NaN         NaN         NaN         NaN         NaN  ...   \n",
      "7         NaN         NaN         NaN         NaN         NaN  ...   \n",
      "8         NaN         NaN         NaN         NaN         NaN  ...   \n",
      "9         NaN         NaN         NaN         NaN         NaN  ...   \n",
      "\n",
      "   Unnamed: 13  Unnamed: 14  Unnamed: 15  Unnamed: 16  Unnamed: 17  \\\n",
      "0          NaN          NaN          NaN          NaN          NaN   \n",
      "1          NaN          NaN          NaN          NaN          NaN   \n",
      "2          NaN          NaN          NaN          NaN          NaN   \n",
      "3          NaN          NaN          NaN          NaN          NaN   \n",
      "4          NaN          NaN          NaN          NaN          NaN   \n",
      "5          NaN          NaN          NaN          NaN          NaN   \n",
      "6          NaN          NaN          NaN          NaN          NaN   \n",
      "7          NaN          NaN          NaN          NaN          NaN   \n",
      "8          NaN          NaN          NaN          NaN          NaN   \n",
      "9          NaN          NaN          NaN          NaN          NaN   \n",
      "\n",
      "   Unnamed: 18  Candy  Mango  Milk  Class  \n",
      "0          NaN    1.0   55.0  18.0   Rich  \n",
      "1          NaN    NaN    NaN   NaN   Rich  \n",
      "2          NaN    NaN    NaN   NaN   Rich  \n",
      "3          NaN    NaN    NaN   NaN   Poor  \n",
      "4          NaN    NaN    NaN   NaN   Rich  \n",
      "5          NaN    NaN    NaN   NaN   Poor  \n",
      "6          NaN    NaN    NaN   NaN   Rich  \n",
      "7          NaN    NaN    NaN   NaN   Rich  \n",
      "8          NaN    NaN    NaN   NaN   Poor  \n",
      "9          NaN    NaN    NaN   NaN   Poor  \n",
      "\n",
      "[10 rows x 23 columns]\n"
     ]
    }
   ],
   "source": [
    "df['Class']=df['Payment (Rs)'].apply(lambda y: 'Rich' if y>200 else 'Poor')\n",
    "print(df)"
   ]
  },
  {
   "cell_type": "code",
   "execution_count": null,
   "id": "caacd744",
   "metadata": {},
   "outputs": [],
   "source": []
  }
 ],
 "metadata": {
  "kernelspec": {
   "display_name": "Python 3 (ipykernel)",
   "language": "python",
   "name": "python3"
  },
  "language_info": {
   "codemirror_mode": {
    "name": "ipython",
    "version": 3
   },
   "file_extension": ".py",
   "mimetype": "text/x-python",
   "name": "python",
   "nbconvert_exporter": "python",
   "pygments_lexer": "ipython3",
   "version": "3.11.4"
  }
 },
 "nbformat": 4,
 "nbformat_minor": 5
}
